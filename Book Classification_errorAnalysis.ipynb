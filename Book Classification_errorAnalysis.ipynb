{
  "nbformat": 4,
  "nbformat_minor": 0,
  "metadata": {
    "colab": {
      "name": "error analysis on clean text.ipynb",
      "provenance": []
    },
    "kernelspec": {
      "name": "python3",
      "display_name": "Python 3"
    }
  },
  "cells": [
    {
      "cell_type": "code",
      "metadata": {
        "colab": {
          "base_uri": "https://localhost:8080/"
        },
        "id": "cPim-WYNc3oi",
        "outputId": "105c2e48-0c5a-4f7a-fe63-7c4e42b89e81"
      },
      "source": [
        "import copy\r\n",
        "import numpy as np\r\n",
        "import nltk\r\n",
        "import pdb ## in case of tracing back\r\n",
        "#pdb.set_trace()\r\n",
        "nltk.download('gutenberg')\r\n",
        "from nltk.corpus import gutenberg\r\n",
        "print(gutenberg.fileids())\r\n",
        "import matplotlib.pyplot as plt\r\n",
        "from copy import deepcopy\r\n",
        "##可变对象（比如字典或者列表），'=' 是进行传址赋值，会修改函数指向的地址内的内容，所以这里需要运用copy.deepcopy，防止原始内容被修改\r\n",
        "##不可变数据（3 个）：Number（数字）、String（字符串）、Tuple（元组; 可变数据（3 个）：List（列表）、Dictionary（字典）、Set（集合）。\r\n",
        "textname_list=copy.deepcopy(gutenberg.fileids())\r\n",
        "print(f'the orignal length of names_list is: {len(textname_list)}')\r\n",
        "nltk.download('punkt')\r\n",
        "import time\r\n",
        "start_time=time.time()\r\n",
        "\r\n",
        "##analysis the orignal data, delete the books with words which is less than 100*200\r\n",
        "import string\r\n",
        "from numpy import *\r\n",
        "import pandas as pd\r\n",
        "from pandas import DataFrame\r\n",
        "data_list=[]\r\n",
        "\r\n",
        "#显示所有列\r\n",
        "pd.set_option('display.max_columns', None)\r\n",
        "#显示所有行\r\n",
        "pd.set_option('display.max_rows', None)\r\n",
        "\r\n",
        "punctuation=string.punctuation\r\n",
        "\r\n",
        "for name in textname_list:\r\n",
        "  text0=gutenberg.raw(name)\r\n",
        "  tokenized_sents=nltk.sent_tokenize(text0)\r\n",
        "  sents_lenlist=[]\r\n",
        "  count=0\r\n",
        "  line_num=0\r\n",
        "  word_num=0\r\n",
        "  for line in tokenized_sents:\r\n",
        "    count_sents_words=0\r\n",
        "    line_words=nltk.word_tokenize(line)\r\n",
        "    for w in line_words:\r\n",
        "      if not w in punctuation:\r\n",
        "        count_sents_words+=1\r\n",
        "        word_num+=1\r\n",
        "    sents_lenlist.append(count_sents_words)\r\n",
        "    if count_sents_words>=100:\r\n",
        "      count+=1\r\n",
        "  if word_num<200*100:\r\n",
        "    textname_list.remove(name)\r\n",
        "  data_list.append([name,len(sents_lenlist),round(mean(sents_lenlist),1),count,word_num/100])\r\n",
        "  #print(f'sents_lenlist is {sents_lenlist}')\r\n",
        "'''\r\n",
        "  plt.figure()\r\n",
        "  plt.plot(range(1,len(sents_lenlist)+1),sents_lenlist)\r\n",
        "  plt.title(name)\r\n",
        "'''\r\n",
        "\r\n",
        "data_df=pd.DataFrame(data_list)\r\n",
        "data_df.columns=['book ','total_sents ','mean_token ','ideal_sents ','total_token/100']     \r\n",
        "print(data_df)\r\n",
        "print(f'the number of left books is is {len(textname_list)}')\r\n",
        "print(textname_list)\r\n",
        "\r\n",
        "## cleaning books: which can not find its author\r\n",
        "import re\r\n",
        "import string\r\n",
        "# don't know the author of the forth book: new book4 --[The King James Bible]-->remove\r\n",
        "book_author={}\r\n",
        "authorlist=[]\r\n",
        "\r\n",
        "for name in textname_list:\r\n",
        "    tokenized_sents_eachbook=nltk.sent_tokenize(gutenberg.raw(name))\r\n",
        "    for line in tokenized_sents_eachbook:\r\n",
        "      ## why not author = re.match(r'[.* by (.*) [0-9]+]',line), the left '[' is not highlighted as the right/close one\r\n",
        "      matchobj=re.match(r'.* by (.*) [0-9]*]',line)\r\n",
        "      if matchobj:\r\n",
        "        author = (matchobj).group(1)\r\n",
        "        break\r\n",
        "      else:\r\n",
        "        author=None\r\n",
        "    book_author[name]=author\r\n",
        "\r\n",
        "for k,v in book_author.items():\r\n",
        "  if v==None:\r\n",
        "    textname_list.remove(k)\r\n",
        "  else:\r\n",
        "    authorlist.append(k)\r\n",
        "\r\n",
        "print(len(authorlist))\r\n",
        "print(f'the number of left books is {len(textname_list)}')\r\n",
        "print(textname_list)\r\n",
        "\r\n",
        "print(data_df.loc[data_df['book '].isin(textname_list)])\r\n",
        "\r\n",
        "#randomly pick 5 book with different author and label it\r\n",
        "\r\n",
        "import random\r\n",
        "random.seed(0)\r\n",
        "random_num_list=[]\r\n",
        "author_list=[]\r\n",
        "author_list_idx={}\r\n",
        "num_book=0\r\n",
        "while num_book<5:\r\n",
        "  # randint(a,b) means the value between a and b(including a and b), so len(textname_list) should minus 1, in case of out of index range\r\n",
        "  random_num = random.randint(0,len(textname_list)-1)\r\n",
        "  random_author = book_author[textname_list[random_num]]\r\n",
        "  if (random_num not in random_num_list and random_author not in author_list):\r\n",
        "    random_num_list.append(random_num)\r\n",
        "    author_list.append(random_author)\r\n",
        "    num_book+=1\r\n",
        "\r\n",
        "for i in range(len(author_list)):\r\n",
        "  author_list_idx[author_list[i]]=i+1\r\n",
        "\r\n",
        "print(author_list_idx)\r\n",
        "print(list(zip(random_num_list,author_list)))\r\n",
        "book_name_list=[]\r\n",
        "for i in random_num_list:\r\n",
        "  book_name_list.append(textname_list[i])\r\n",
        "\r\n",
        "print(f'bookname_author {zip(book_name_list,author_list)}')\r\n",
        "\r\n",
        "## extract 200 partition and each partition has 100 tokens\r\n",
        "import numpy\r\n",
        "from sklearn.model_selection import cross_val_score\r\n",
        "sents_author=[]\r\n",
        "for i, author in zip(random_num_list,author_list):\r\n",
        "  book_token_list=[] \r\n",
        "  text=gutenberg.raw(textname_list[i])\r\n",
        "  tokenized_sents=nltk.sent_tokenize(text)\r\n",
        "  tokenized_words=nltk.word_tokenize(text)\r\n",
        "  for w in tokenized_words:\r\n",
        "    if w not in punctuation:\r\n",
        "      book_token_list.append(w)\r\n",
        "  for i in range(0,200):\r\n",
        "    sent=''\r\n",
        "    for t in book_token_list[((i+1)*100-100):(i+1)*100]:\r\n",
        "      sent=sent+' '+t\r\n",
        "    sents_author.append((sent,author))\r\n",
        "\r\n",
        "random.seed(2)\r\n",
        "random.shuffle(sents_author)\r\n",
        "print(numpy.array(sents_author[0:5]))\r\n",
        "print(len(sents_author))\r\n",
        "#print(sents_author)\r\n",
        "#sents_author: [(' The Wisdom of Father Brown by G. K. Chesterton 1914 I The Absence of Mr Glass THE consulting-rooms of Dr Orion Hood the eminent criminologist and specialist in certain moral disorders lay along the sea-front at Scarborough in a series of very large and well-lighted french windows which showed the North Sea like one endless outer wall of blue-green marble In such a place the sea had something of the monotony of a blue-green dado for the chambers themselves were ruled throughout by a terrible tidiness not unlike the terrible tidiness of the sea It must not be supposed that', 'G. K. Chesterton'), ..]\r\n",
        "    "
      ],
      "execution_count": 1,
      "outputs": [
        {
          "output_type": "stream",
          "text": [
            "[nltk_data] Downloading package gutenberg to /root/nltk_data...\n",
            "[nltk_data]   Package gutenberg is already up-to-date!\n",
            "['austen-emma.txt', 'austen-persuasion.txt', 'austen-sense.txt', 'bible-kjv.txt', 'blake-poems.txt', 'bryant-stories.txt', 'burgess-busterbrown.txt', 'carroll-alice.txt', 'chesterton-ball.txt', 'chesterton-brown.txt', 'chesterton-thursday.txt', 'edgeworth-parents.txt', 'melville-moby_dick.txt', 'milton-paradise.txt', 'shakespeare-caesar.txt', 'shakespeare-hamlet.txt', 'shakespeare-macbeth.txt', 'whitman-leaves.txt']\n",
            "the orignal length of names_list is: 18\n",
            "[nltk_data] Downloading package punkt to /root/nltk_data...\n",
            "[nltk_data]   Package punkt is already up-to-date!\n",
            "                      book   total_sents   mean_token   ideal_sents   \\\n",
            "0           austen-emma.txt          7493         22.5            91   \n",
            "1     austen-persuasion.txt          3654         23.4            36   \n",
            "2          austen-sense.txt          4833         25.8            52   \n",
            "3             bible-kjv.txt         29812         27.6           321   \n",
            "4           blake-poems.txt           355         19.7             0   \n",
            "5   burgess-busterbrown.txt          1001         16.6             0   \n",
            "6       chesterton-ball.txt          4624         18.7             3   \n",
            "7      chesterton-brown.txt          3712         20.4             1   \n",
            "8   chesterton-thursday.txt          3588         17.1             0   \n",
            "9     edgeworth-parents.txt         10096         17.7            26   \n",
            "10   melville-moby_dick.txt          9852         22.4            69   \n",
            "11      milton-paradise.txt          1835         43.8           152   \n",
            "12   shakespeare-caesar.txt          1592         13.0             2   \n",
            "13   shakespeare-hamlet.txt          2355         12.8             8   \n",
            "14  shakespeare-macbeth.txt          1465         12.4             2   \n",
            "\n",
            "    total_token/100  \n",
            "0           1687.47  \n",
            "1            855.71  \n",
            "2           1246.65  \n",
            "3           8229.33  \n",
            "4             69.98  \n",
            "5            166.14  \n",
            "6            863.22  \n",
            "7            759.09  \n",
            "8            613.05  \n",
            "9           1785.74  \n",
            "10          2206.19  \n",
            "11           802.94  \n",
            "12           207.30  \n",
            "13           300.28  \n",
            "14           181.11  \n",
            "the number of left books is is 15\n",
            "['austen-emma.txt', 'austen-persuasion.txt', 'austen-sense.txt', 'bible-kjv.txt', 'bryant-stories.txt', 'carroll-alice.txt', 'chesterton-ball.txt', 'chesterton-brown.txt', 'chesterton-thursday.txt', 'edgeworth-parents.txt', 'melville-moby_dick.txt', 'milton-paradise.txt', 'shakespeare-caesar.txt', 'shakespeare-hamlet.txt', 'whitman-leaves.txt']\n",
            "13\n",
            "the number of left books is 13\n",
            "['austen-emma.txt', 'austen-persuasion.txt', 'austen-sense.txt', 'bryant-stories.txt', 'carroll-alice.txt', 'chesterton-ball.txt', 'chesterton-brown.txt', 'chesterton-thursday.txt', 'melville-moby_dick.txt', 'milton-paradise.txt', 'shakespeare-caesar.txt', 'shakespeare-hamlet.txt', 'whitman-leaves.txt']\n",
            "                      book   total_sents   mean_token   ideal_sents   \\\n",
            "0           austen-emma.txt          7493         22.5            91   \n",
            "1     austen-persuasion.txt          3654         23.4            36   \n",
            "2          austen-sense.txt          4833         25.8            52   \n",
            "6       chesterton-ball.txt          4624         18.7             3   \n",
            "7      chesterton-brown.txt          3712         20.4             1   \n",
            "8   chesterton-thursday.txt          3588         17.1             0   \n",
            "10   melville-moby_dick.txt          9852         22.4            69   \n",
            "11      milton-paradise.txt          1835         43.8           152   \n",
            "12   shakespeare-caesar.txt          1592         13.0             2   \n",
            "13   shakespeare-hamlet.txt          2355         12.8             8   \n",
            "\n",
            "    total_token/100  \n",
            "0           1687.47  \n",
            "1            855.71  \n",
            "2           1246.65  \n",
            "6            863.22  \n",
            "7            759.09  \n",
            "8            613.05  \n",
            "10          2206.19  \n",
            "11           802.94  \n",
            "12           207.30  \n",
            "13           300.28  \n",
            "{'G. K. Chesterton': 1, 'Walt Whitman': 2, 'Jane Austen': 3, 'Lewis Carroll': 4, 'Herman Melville': 5}\n",
            "[(6, 'G. K. Chesterton'), (12, 'Walt Whitman'), (0, 'Jane Austen'), (4, 'Lewis Carroll'), (8, 'Herman Melville')]\n",
            "bookname_author <zip object at 0x7fd9ddf33cc8>\n",
            "[[\" as they tug at her teats The brood of the turkey-hen and she with her half-spread wings I see in them and myself the same old law The press of my foot to the earth springs a hundred affections They scorn the best I can do to relate them I am enamour 'd of growing out-doors Of men that live among cattle or taste of the ocean or woods Of the builders and steerers of ships and the wielders of axes and mauls and the drivers of horses I can eat and sleep with them week in and week out\"\n",
            "  'Walt Whitman']\n",
            " [\" songs No special strains to sing none for itself But from the whole resulting rising at last and floating A round full-orb 'd eidolon. For Him I Sing For him I sing I raise the present on the past As some perennial tree out of its roots the present on the past With time and space I him dilate and fuse the immortal laws To make himself by them the law unto himself. When I Read the Book When I read the book the biography famous And is this then said I what the author calls a man 's life\"\n",
            "  'Walt Whitman']\n",
            " [' the worst fortress in the world For it is actually commanded from above by the common high-road across the mountains -- the very place where the police would most probably pass Why five shabby short guns held us helpless here about half an hour ago The quarter of a company of any kind of soldiers could have blown us over the precipice Whatever is the meaning of this odd little nook of grass and flowers it is not an entrenched position It is something else it has some other strange sort of importance some value that I do not understand'\n",
            "  'G. K. Chesterton']\n",
            " [\" '' Yes it was a little like -- but to be sure it did not do him justice '' We had had a great deal of trouble in persuading him to sit at all It was made a great favour of and altogether it was more than I could bear and so I never would finish it to have it apologised over as an unfavourable likeness to every morning visitor in Brunswick Square -- and as I said I did then forswear ever drawing any body again But for Harriet 's sake or rather for my own and as there\"\n",
            "  'Jane Austen']\n",
            " [\" manage to do it 'In my youth said his father 'I took to the law And argued each case with my wife And the muscular strength which it gave to my jaw Has lasted the rest of my life 'You are old said the youth 'one would hardly suppose That your eye was as steady as ever Yet you balanced an eel on the end of your nose -- What made you so awfully clever 'I have answered three questions and that is enough Said his father 'do n't give yourself airs Do you think I can listen all day\"\n",
            "  'Lewis Carroll']]\n",
            "1000\n"
          ],
          "name": "stdout"
        }
      ]
    },
    {
      "cell_type": "code",
      "metadata": {
        "colab": {
          "base_uri": "https://localhost:8080/"
        },
        "id": "b7_9RHHZ7ix9",
        "outputId": "a9384c64-7299-4156-98ac-433c4d064d38"
      },
      "source": [
        "print(list(zip(book_name_list,author_list)))"
      ],
      "execution_count": 2,
      "outputs": [
        {
          "output_type": "stream",
          "text": [
            "[('chesterton-brown.txt', 'G. K. Chesterton'), ('whitman-leaves.txt', 'Walt Whitman'), ('austen-emma.txt', 'Jane Austen'), ('carroll-alice.txt', 'Lewis Carroll'), ('melville-moby_dick.txt', 'Herman Melville')]\n"
          ],
          "name": "stdout"
        }
      ]
    },
    {
      "cell_type": "code",
      "metadata": {
        "colab": {
          "base_uri": "https://localhost:8080/",
          "height": 145
        },
        "id": "QMY8BIh4cziB",
        "outputId": "0173a671-3f12-4699-ea54-ad2d16e8025a"
      },
      "source": [
        "##cleaning data: lower-->drop punctuation-->identify special entities/drop stopwords-->lemmatization\r\n",
        "##count words\r\n",
        "import spacy\r\n",
        "import spacy\r\n",
        "import nltk\r\n",
        "import math\r\n",
        "import string\r\n",
        "import nltk.stem\r\n",
        "from nltk.corpus import stopwords\r\n",
        "from collections import Counter\r\n",
        "nltk.download('stopwords')\r\n",
        "punctuation = [char for char in string.punctuation]\r\n",
        "s=nltk.stem.SnowballStemmer('english')\r\n",
        "nlp=spacy.load('en_core_web_sm')\r\n",
        "analysis_text=[]\r\n",
        "\r\n",
        "def clean_text(sents_author):\r\n",
        "  result=[]\r\n",
        "  word_set=[]\r\n",
        "  for corpus_author in sents_author:\r\n",
        "    text, label = corpus_author[0], corpus_author[1]\r\n",
        "    lower_text = text.lower()\r\n",
        "    tokens=nltk.word_tokenize(lower_text)\r\n",
        "    drop_punctuation=[w for w in tokens if w not in punctuation]\r\n",
        "    doc=nlp(lower_text)\r\n",
        "    ent_label =[(ent.text, ent.label_) for ent in doc.ents]\r\n",
        "    entities = []\r\n",
        "    ## in case of warning because there is not entities in one text\r\n",
        "    if ent_label:\r\n",
        "      entities, label_=zip(*ent_label) \r\n",
        "    #ent_stopwords=[w for w in drop_punctuation if w in entities]#only keep the entities\r\n",
        "    ent_stopwords=[w for w in drop_punctuation if w in entities or not w in stopwords.words('english')]#keep entities but drop stopwords\r\n",
        "    #ent_stopwords=[w for w in drop_punctuation]\r\n",
        "    clean_text = []\r\n",
        "    sents=' '\r\n",
        "    for i in ent_stopwords:\r\n",
        "      sents=sents+(s.stem(i))+' '\r\n",
        "      clean_text.append(s.stem(i))\r\n",
        "    #print(sents,label)\r\n",
        "    analysis_text.append(sents)\r\n",
        "    word_set.extend(clean_text)\r\n",
        "    count = dict(Counter(clean_text))\r\n",
        "    result.append((count,label))\r\n",
        "  return result, word_set\r\n",
        "\r\n",
        "\r\n",
        "wordcount_author,word_set=clean_text(sents_author)\r\n",
        "print(analysis_text[0:2])\r\n",
        "\r\n",
        "word_set.sort()\r\n",
        "word_set=set(word_set)\r\n",
        "\r\n",
        "print(wordcount_author[0])\r\n",
        "\r\n",
        "##****word_set is the key word lib\r\n",
        "'''\r\n",
        "# data clean result:\r\n",
        "#[({'know': 1, 'mechanical': 1}, 'William Shakespeare'), ({'trade': 1, 'sir': 1, 'hope': 1, 'may': 1, 'vse': 1}, 'William Shakespeare')]\r\n",
        "\r\n",
        "for i in range(len(wordcount_author)):\r\n",
        "  print(wordcount_author[i])\r\n",
        "\r\n",
        "print(word_set)\r\n",
        "print(len(word_set))\r\n",
        "'''"
      ],
      "execution_count": 3,
      "outputs": [
        {
          "output_type": "stream",
          "text": [
            "[nltk_data] Downloading package stopwords to /root/nltk_data...\n",
            "[nltk_data]   Package stopwords is already up-to-date!\n",
            "[\" tug teat brood turkey-hen half-spread wing see old law press foot earth spring hundr affect scorn best relat enamour 'd grow out-door men live among cattl tast ocean wood builder steerer ship wielder axe maul driver hors eat sleep week week \", \" song special strain sing none whole result rise last float round full-orb 'd eidolon sing sing rais present past perenni tree root present past time space dilat fuse immort law make law unto read book read book biographi famous said author call man 's life \"]\n",
            "({'tug': 1, 'teat': 1, 'brood': 1, 'turkey-hen': 1, 'half-spread': 1, 'wing': 1, 'see': 1, 'old': 1, 'law': 1, 'press': 1, 'foot': 1, 'earth': 1, 'spring': 1, 'hundr': 1, 'affect': 1, 'scorn': 1, 'best': 1, 'relat': 1, 'enamour': 1, \"'d\": 1, 'grow': 1, 'out-door': 1, 'men': 1, 'live': 1, 'among': 1, 'cattl': 1, 'tast': 1, 'ocean': 1, 'wood': 1, 'builder': 1, 'steerer': 1, 'ship': 1, 'wielder': 1, 'axe': 1, 'maul': 1, 'driver': 1, 'hors': 1, 'eat': 1, 'sleep': 1, 'week': 2}, 'Walt Whitman')\n"
          ],
          "name": "stdout"
        },
        {
          "output_type": "execute_result",
          "data": {
            "application/vnd.google.colaboratory.intrinsic+json": {
              "type": "string"
            },
            "text/plain": [
              "\"\\n# data clean result:\\n#[({'know': 1, 'mechanical': 1}, 'William Shakespeare'), ({'trade': 1, 'sir': 1, 'hope': 1, 'may': 1, 'vse': 1}, 'William Shakespeare')]\\n\\nfor i in range(len(wordcount_author)):\\n  print(wordcount_author[i])\\n\\nprint(word_set)\\nprint(len(word_set))\\n\""
            ]
          },
          "metadata": {
            "tags": []
          },
          "execution_count": 3
        }
      ]
    },
    {
      "cell_type": "code",
      "metadata": {
        "colab": {
          "base_uri": "https://localhost:8080/",
          "height": 35
        },
        "id": "B5xm6ityhRWS",
        "outputId": "450840bb-4d87-4caa-9310-a41c56eabc3a"
      },
      "source": [
        "#padding features:\r\n",
        "def padding_features(wordcount_author):\r\n",
        "  features=[]\r\n",
        "  for pair in wordcount_author:\r\n",
        "    item,author = pair[0], pair[1]\r\n",
        "    for word in word_set:\r\n",
        "      if not word in item:\r\n",
        "        item[word]=0\r\n",
        "      else:\r\n",
        "        continue\r\n",
        "    item_sorted={k:item[k] for k in sorted(item.keys(),reverse=True)}\r\n",
        "    features.append((item_sorted,author))\r\n",
        "  return features\r\n",
        "\r\n",
        "BOW_features_author=padding_features(wordcount_author)\r\n",
        "\r\n",
        "X_set,Y_set=zip(*BOW_features_author)\r\n",
        "\r\n",
        "X_set_value=[list(item.values()) for item in X_set]\r\n",
        "Y_set_value=[author_list_idx[author] for author in Y_set]\r\n",
        "\r\n",
        "X_train, X_test=X_set_value[0:round(len(X_set_value)*0.8)],X_set_value[round(len(X_set_value)*0.8):len(X_set)]\r\n",
        "Y_train, Y_test=Y_set_value[0:round(len(X_set_value)*0.8)],Y_set_value[round(len(X_set_value)*0.8):len(X_set)]\r\n",
        "'''\r\n",
        "for i in range(len(BOW_BOW_features_author)):\r\n",
        "  print(BOW_BOW_BOW_features_author[i])\r\n",
        "\r\n",
        "print(f'X_set is {X_set}')\r\n",
        "print(f'Y_set is {Y_set}')\r\n",
        "\r\n",
        "print(f'X_set_value is {X_set_value}')\r\n",
        "print(f'Y_set_value is {Y_set_value}')\r\n",
        "print(Y_train)\r\n",
        "'''"
      ],
      "execution_count": 4,
      "outputs": [
        {
          "output_type": "execute_result",
          "data": {
            "application/vnd.google.colaboratory.intrinsic+json": {
              "type": "string"
            },
            "text/plain": [
              "\"\\nfor i in range(len(BOW_BOW_features_author)):\\n  print(BOW_BOW_BOW_features_author[i])\\n\\nprint(f'X_set is {X_set}')\\nprint(f'Y_set is {Y_set}')\\n\\nprint(f'X_set_value is {X_set_value}')\\nprint(f'Y_set_value is {Y_set_value}')\\nprint(Y_train)\\n\""
            ]
          },
          "metadata": {
            "tags": []
          },
          "execution_count": 4
        }
      ]
    },
    {
      "cell_type": "markdown",
      "metadata": {
        "id": "RMWy12U5GwNp"
      },
      "source": [
        ""
      ]
    },
    {
      "cell_type": "code",
      "metadata": {
        "id": "dLVzzlG0gxeN"
      },
      "source": [
        "##built BOW_SVC model\r\n",
        "from sklearn.svm import SVC\r\n",
        "from sklearn.model_selection import cross_val_predict\r\n",
        "BOW_SVC=SVC(kernel='linear', probability=True)\r\n",
        "Y_pred=cross_val_predict(BOW_SVC,X_set_value,Y_set_value,cv=10)\r\n",
        "#model_performance('BOW_SVC', Y_set_value, Y_pred)\r\n",
        "#BOW_SVC_accuracy=cross_val_score(BOW_SVC,X_set_value,Y_set_value,cv=10)\r\n"
      ],
      "execution_count": 5,
      "outputs": []
    },
    {
      "cell_type": "code",
      "metadata": {
        "id": "088WcZ03ffNq"
      },
      "source": [
        "#显示所有列\r\n",
        "pd.set_option('display.max_columns', None)\r\n",
        "#显示所有行\r\n",
        "pd.set_option('display.max_rows', None)\r\n",
        "\r\n",
        "##error analysis\r\n",
        "#X_analysis: [\" as they tug at her teat the brood of the turkey-hen and she with her half-spread wing i see in them and myself the same old law the press of my foot to the earth spring a hundr affect they scorn the best i can do to relat them i am enamour 'd of grow out-door of men that live among cattl or tast of the ocean or wood of the builder and steerer of ship and the wielder of axe and maul and the driver of hors i can eat and sleep with them week in and week out \", \" song no special strain to sing none for itself but from the whole result rise at last and float a round full-orb 'd eidolon for him i sing for him i sing i rais the present on the past as some perenni tree out of it root the present on the past with time and space i him dilat and fuse the immort law to make himself by them the law unto himself when i read the book when i read the book the biographi famous and is this then said i what the author call a man 's life \"]\r\n",
        "list_idx_author={1:'G. K. Chesterton', 2:'Walt Whitman', 3:'Jane Austen', 4:'Lewis Carroll', 5:'Herman Melville'}\r\n",
        "author_lists=['G. K. Chesterton','Walt Whitman','Jane Austen','Lewis Carroll','Herman Melville']\r\n",
        "import pandas as pd\r\n",
        "from pandas import DataFrame\r\n",
        "error_list=[]\r\n",
        "\r\n",
        "def error_analysis(model_name, X_analysis, Y_real, Y_pred):\r\n",
        "  for i in range(len(Y_real)):\r\n",
        "    if Y_real[i] != Y_pred[i]:\r\n",
        "      error_list.append([X_analysis[i],list_idx_author[Y_real[i]],list_idx_author[Y_pred[i]]])\r\n",
        "\r\n",
        "  print(f'error analysis for {model_name}')\r\n",
        "  data_df2=pd.DataFrame(error_list)\r\n",
        "  data_df2.columns=['text', 'author_real', 'author_pred'] \r\n",
        "  print(f'data type is {type(data_df2)}')\r\n",
        "  #print(data_df2)\r\n",
        "  \r\n",
        "  return data_df2\r\n"
      ],
      "execution_count": 6,
      "outputs": []
    },
    {
      "cell_type": "code",
      "metadata": {
        "colab": {
          "base_uri": "https://localhost:8080/"
        },
        "id": "lwwxQdJihmP0",
        "outputId": "d8e3f9e0-e0c5-417b-fdc4-0b8469a909df"
      },
      "source": [
        "data_df2=error_analysis('BOW_SVC model', analysis_text, Y_set_value, Y_pred)"
      ],
      "execution_count": 7,
      "outputs": [
        {
          "output_type": "stream",
          "text": [
            "error analysis for BOW_SVC model\n",
            "data type is <class 'pandas.core.frame.DataFrame'>\n"
          ],
          "name": "stdout"
        }
      ]
    },
    {
      "cell_type": "code",
      "metadata": {
        "colab": {
          "base_uri": "https://localhost:8080/"
        },
        "id": "imaWclLE9aFk",
        "outputId": "530f38dc-aa42-43e9-cb2c-1b0859aa6b2d"
      },
      "source": [
        "type(data_df2)"
      ],
      "execution_count": 8,
      "outputs": [
        {
          "output_type": "execute_result",
          "data": {
            "text/plain": [
              "pandas.core.frame.DataFrame"
            ]
          },
          "metadata": {
            "tags": []
          },
          "execution_count": 8
        }
      ]
    },
    {
      "cell_type": "code",
      "metadata": {
        "colab": {
          "base_uri": "https://localhost:8080/",
          "height": 387
        },
        "id": "lcYVXnUA8--u",
        "outputId": "0a7b4f96-8d66-424a-d095-5a5cd83db5bc"
      },
      "source": [
        "data_df2.loc[data_df2['author_real']=='G. K. Chesterton']"
      ],
      "execution_count": 9,
      "outputs": [
        {
          "output_type": "execute_result",
          "data": {
            "text/html": [
              "<div>\n",
              "<style scoped>\n",
              "    .dataframe tbody tr th:only-of-type {\n",
              "        vertical-align: middle;\n",
              "    }\n",
              "\n",
              "    .dataframe tbody tr th {\n",
              "        vertical-align: top;\n",
              "    }\n",
              "\n",
              "    .dataframe thead th {\n",
              "        text-align: right;\n",
              "    }\n",
              "</style>\n",
              "<table border=\"1\" class=\"dataframe\">\n",
              "  <thead>\n",
              "    <tr style=\"text-align: right;\">\n",
              "      <th></th>\n",
              "      <th>text</th>\n",
              "      <th>author_real</th>\n",
              "      <th>author_pred</th>\n",
              "    </tr>\n",
              "  </thead>\n",
              "  <tbody>\n",
              "    <tr>\n",
              "      <th>6</th>\n",
              "      <td>dare n't say -- ca n't say -- 's clever bolde...</td>\n",
              "      <td>G. K. Chesterton</td>\n",
              "      <td>Lewis Carroll</td>\n",
              "    </tr>\n",
              "    <tr>\n",
              "      <th>18</th>\n",
              "      <td>subject choos -- avoid well puzzl dreyfus cas...</td>\n",
              "      <td>G. K. Chesterton</td>\n",
              "      <td>Herman Melville</td>\n",
              "    </tr>\n",
              "    <tr>\n",
              "      <th>20</th>\n",
              "      <td>valogn turn head sharpli suppress exclam flam...</td>\n",
              "      <td>G. K. Chesterton</td>\n",
              "      <td>Herman Melville</td>\n",
              "    </tr>\n",
              "    <tr>\n",
              "      <th>23</th>\n",
              "      <td>head make bodi insignific graviti great physi...</td>\n",
              "      <td>G. K. Chesterton</td>\n",
              "      <td>Walt Whitman</td>\n",
              "    </tr>\n",
              "    <tr>\n",
              "      <th>28</th>\n",
              "      <td>seymour one intellig man twenti unintellig co...</td>\n",
              "      <td>G. K. Chesterton</td>\n",
              "      <td>Jane Austen</td>\n",
              "    </tr>\n",
              "    <tr>\n",
              "      <th>29</th>\n",
              "      <td>scientif eye human histori seri collect movem...</td>\n",
              "      <td>G. K. Chesterton</td>\n",
              "      <td>Walt Whitman</td>\n",
              "    </tr>\n",
              "    <tr>\n",
              "      <th>32</th>\n",
              "      <td>evolutionari -- republican govern put conside...</td>\n",
              "      <td>G. K. Chesterton</td>\n",
              "      <td>Herman Melville</td>\n",
              "    </tr>\n",
              "    <tr>\n",
              "      <th>33</th>\n",
              "      <td>sit oh silent eloqu -- politician time come s...</td>\n",
              "      <td>G. K. Chesterton</td>\n",
              "      <td>Herman Melville</td>\n",
              "    </tr>\n",
              "    <tr>\n",
              "      <th>34</th>\n",
              "      <td>man warm concern larg theori alway relish app...</td>\n",
              "      <td>G. K. Chesterton</td>\n",
              "      <td>Jane Austen</td>\n",
              "    </tr>\n",
              "    <tr>\n",
              "      <th>39</th>\n",
              "      <td>say word -- `well let littl fun know blow may...</td>\n",
              "      <td>G. K. Chesterton</td>\n",
              "      <td>Walt Whitman</td>\n",
              "    </tr>\n",
              "    <tr>\n",
              "      <th>40</th>\n",
              "      <td>suppos person posit trust '' went priest '' b...</td>\n",
              "      <td>G. K. Chesterton</td>\n",
              "      <td>Jane Austen</td>\n",
              "    </tr>\n",
              "  </tbody>\n",
              "</table>\n",
              "</div>"
            ],
            "text/plain": [
              "                                                 text       author_real  \\\n",
              "6    dare n't say -- ca n't say -- 's clever bolde...  G. K. Chesterton   \n",
              "18   subject choos -- avoid well puzzl dreyfus cas...  G. K. Chesterton   \n",
              "20   valogn turn head sharpli suppress exclam flam...  G. K. Chesterton   \n",
              "23   head make bodi insignific graviti great physi...  G. K. Chesterton   \n",
              "28   seymour one intellig man twenti unintellig co...  G. K. Chesterton   \n",
              "29   scientif eye human histori seri collect movem...  G. K. Chesterton   \n",
              "32   evolutionari -- republican govern put conside...  G. K. Chesterton   \n",
              "33   sit oh silent eloqu -- politician time come s...  G. K. Chesterton   \n",
              "34   man warm concern larg theori alway relish app...  G. K. Chesterton   \n",
              "39   say word -- `well let littl fun know blow may...  G. K. Chesterton   \n",
              "40   suppos person posit trust '' went priest '' b...  G. K. Chesterton   \n",
              "\n",
              "        author_pred  \n",
              "6     Lewis Carroll  \n",
              "18  Herman Melville  \n",
              "20  Herman Melville  \n",
              "23     Walt Whitman  \n",
              "28      Jane Austen  \n",
              "29     Walt Whitman  \n",
              "32  Herman Melville  \n",
              "33  Herman Melville  \n",
              "34      Jane Austen  \n",
              "39     Walt Whitman  \n",
              "40      Jane Austen  "
            ]
          },
          "metadata": {
            "tags": []
          },
          "execution_count": 9
        }
      ]
    },
    {
      "cell_type": "code",
      "metadata": {
        "colab": {
          "base_uri": "https://localhost:8080/"
        },
        "id": "oyjdvwSA_qEI",
        "outputId": "83407c12-7390-485c-d7bf-e6f8d9ab7b59"
      },
      "source": [
        "text2=data_df2[data_df2['author_real']=='G. K. Chesterton'][\"text\"]\r\n",
        "print(text2)"
      ],
      "execution_count": 10,
      "outputs": [
        {
          "output_type": "stream",
          "text": [
            "6      dare n't say -- ca n't say -- 's clever bolde...\n",
            "18     subject choos -- avoid well puzzl dreyfus cas...\n",
            "20     valogn turn head sharpli suppress exclam flam...\n",
            "23     head make bodi insignific graviti great physi...\n",
            "28     seymour one intellig man twenti unintellig co...\n",
            "29     scientif eye human histori seri collect movem...\n",
            "32     evolutionari -- republican govern put conside...\n",
            "33     sit oh silent eloqu -- politician time come s...\n",
            "34     man warm concern larg theori alway relish app...\n",
            "39     say word -- `well let littl fun know blow may...\n",
            "40     suppos person posit trust '' went priest '' b...\n",
            "Name: text, dtype: object\n"
          ],
          "name": "stdout"
        }
      ]
    },
    {
      "cell_type": "code",
      "metadata": {
        "colab": {
          "base_uri": "https://localhost:8080/",
          "height": 1000
        },
        "id": "Duaf16Lac0a4",
        "outputId": "5102b3d7-9b3f-4a8c-d769-24c124f8c7d9"
      },
      "source": [
        "top=20\r\n",
        "nltk.download('punkt')\r\n",
        "## for vectorizer\r\n",
        "from sklearn import feature_extraction, manifold\r\n",
        "\r\n",
        "\r\n",
        "##the first books\r\n",
        "y = \"G. K. Chesterton\"\r\n",
        "corpus = data_df2[data_df2[\"author_real\"]==y][\"text\"]\r\n",
        "print(corpus)\r\n",
        "lst_tokens = nltk.tokenize.word_tokenize(corpus.str.cat(sep=\" \"))\r\n",
        "fig, ax = plt.subplots(nrows=1, ncols=2)\r\n",
        "fig.suptitle(\"Most frequent words\", fontsize=15)\r\n",
        "    \r\n",
        "## unigrams\r\n",
        "dic_words_freq = nltk.FreqDist(lst_tokens)\r\n",
        "dtf_uni = pd.DataFrame(dic_words_freq.most_common(), \r\n",
        "                       columns=[\"Word\",\"Freq\"])\r\n",
        "dtf_uni.set_index(\"Word\").iloc[:top,:].sort_values(by=\"Freq\").plot(\r\n",
        "                  kind=\"barh\", title=y, ax=ax[0], \r\n",
        "                  legend=False).grid(axis='x')\r\n",
        "ax[0].set(ylabel=None)\r\n",
        "    \r\n",
        "\r\n",
        "##the fifth books\r\n",
        "y = \"Herman Melville\"\r\n",
        "corpus = data_df2[data_df2[\"author_real\"]==y][\"text\"]\r\n",
        "print(corpus)\r\n",
        "lst_tokens = nltk.tokenize.word_tokenize(corpus.str.cat(sep=\" \"))\r\n",
        "fig, ax = plt.subplots(nrows=1, ncols=2)\r\n",
        "fig.suptitle(\"Most frequent words\", fontsize=15)\r\n",
        "    \r\n",
        "## unigrams\r\n",
        "dic_words_freq = nltk.FreqDist(lst_tokens)\r\n",
        "dtf_uni = pd.DataFrame(dic_words_freq.most_common(), \r\n",
        "                       columns=[\"Word\",\"Freq\"])\r\n",
        "dtf_uni.set_index(\"Word\").iloc[:top,:].sort_values(by=\"Freq\").plot(\r\n",
        "                  kind=\"barh\", title=y, ax=ax[0], \r\n",
        "                  legend=False).grid(axis='x')\r\n",
        "ax[0].set(ylabel=None)\r\n",
        "    \r\n",
        "\r\n",
        "\r\n",
        "##new book\r\n",
        "y = \"Walt Whitman\"\r\n",
        "corpus = data_df2[data_df2[\"author_real\"]==y][\"text\"]\r\n",
        "print(corpus)\r\n",
        "lst_tokens = nltk.tokenize.word_tokenize(corpus.str.cat(sep=\" \"))\r\n",
        "fig, ax = plt.subplots(nrows=1, ncols=2)\r\n",
        "fig.suptitle(\"Most frequent words\", fontsize=15)\r\n",
        "    \r\n",
        "## unigrams\r\n",
        "dic_words_freq = nltk.FreqDist(lst_tokens)\r\n",
        "dtf_uni = pd.DataFrame(dic_words_freq.most_common(), \r\n",
        "                       columns=[\"Word\",\"Freq\"])\r\n",
        "dtf_uni.set_index(\"Word\").iloc[:top,:].sort_values(by=\"Freq\").plot(\r\n",
        "                  kind=\"barh\", title=y, ax=ax[0], \r\n",
        "                  legend=False).grid(axis='x')\r\n",
        "ax[0].set(ylabel=None)\r\n",
        "    \r\n"
      ],
      "execution_count": 12,
      "outputs": [
        {
          "output_type": "stream",
          "text": [
            "[nltk_data] Downloading package punkt to /root/nltk_data...\n",
            "[nltk_data]   Package punkt is already up-to-date!\n",
            "6      dare n't say -- ca n't say -- 's clever bolde...\n",
            "18     subject choos -- avoid well puzzl dreyfus cas...\n",
            "20     valogn turn head sharpli suppress exclam flam...\n",
            "23     head make bodi insignific graviti great physi...\n",
            "28     seymour one intellig man twenti unintellig co...\n",
            "29     scientif eye human histori seri collect movem...\n",
            "32     evolutionari -- republican govern put conside...\n",
            "33     sit oh silent eloqu -- politician time come s...\n",
            "34     man warm concern larg theori alway relish app...\n",
            "39     say word -- `well let littl fun know blow may...\n",
            "40     suppos person posit trust '' went priest '' b...\n",
            "Name: text, dtype: object\n",
            "5      left brown studi took measur bench found foot...\n",
            "10     live creatur dead mankind includ univers prov...\n",
            "12     '' `` oh '' said look sort diabol funni `` ha...\n",
            "14     scarc good thing 's piti one man proper perso...\n",
            "16     everi one know medit water wed ever artist de...\n",
            "19     slime sea us lesson book jonah teach shipmat ...\n",
            "22     slanderin head '' `` ll break '' said fli pas...\n",
            "30     merg second flower youth among fissur wrinkl ...\n",
            "31     mobi dick herman melvill 1851 etymolog suppli...\n",
            "41     though ledyard great new england travel mungo...\n",
            "42     arm arter sal said would n't come along ll gi...\n",
            "43     touch satin wood complexion third still linge...\n",
            "Name: text, dtype: object\n",
            "2      merg outlet guess intric purpos well fourth-m...\n",
            "3      token evinc plain possess wonder get token pa...\n",
            "9      descend new form tip finger waft odor bodi br...\n",
            "13     lift gauz look long time silent brush away fl...\n",
            "15     dare question materi first last imbu hurrah p...\n",
            "17     say sarcast walt contain enough n't let come ...\n",
            "21     yet nearer bring print bound book -- printer ...\n",
            "24     mani star night sailor young old hapli remini...\n",
            "27     religion farmer mechan artist gentleman sailo...\n",
            "Name: text, dtype: object\n"
          ],
          "name": "stdout"
        },
        {
          "output_type": "execute_result",
          "data": {
            "text/plain": [
              "[Text(0, 0.5, '')]"
            ]
          },
          "metadata": {
            "tags": []
          },
          "execution_count": 12
        },
        {
          "output_type": "display_data",
          "data": {
            "image/png": "[encoded data removed]",
            "text/plain": [
              "<Figure size 432x288 with 2 Axes>"
            ]
          },
          "metadata": {
            "tags": [],
            "needs_background": "light"
          }
        },
        {
          "output_type": "display_data",
          "data": {
            "image/png": "[encoded data removed]",
            "text/plain": [
              "<Figure size 432x288 with 2 Axes>"
            ]
          },
          "metadata": {
            "tags": [],
            "needs_background": "light"
          }
        },
        {
          "output_type": "display_data",
          "data": {
            "image/png": "[encoded data removed]",
            "text/plain": [
              "<Figure size 432x288 with 2 Axes>"
            ]
          },
          "metadata": {
            "tags": [],
            "needs_background": "light"
          }
        }
      ]
    }
  ]
}